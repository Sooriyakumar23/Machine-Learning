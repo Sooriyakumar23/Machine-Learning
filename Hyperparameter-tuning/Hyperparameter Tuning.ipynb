{
 "cells": [
  {
   "cell_type": "code",
   "execution_count": 1,
   "id": "33503929",
   "metadata": {},
   "outputs": [],
   "source": [
    "# 1. Importing necessary libraries\n",
    "\n",
    "import pandas as pd\n",
    "\n",
    "from sklearn import svm, datasets\n",
    "from sklearn.ensemble import RandomForestClassifier as rfc\n",
    "from sklearn.tree import DecisionTreeClassifier as dtc\n",
    "from sklearn.linear_model import LogisticRegression as lr\n",
    "\n",
    "from sklearn.model_selection import train_test_split, cross_val_score, GridSearchCV,RandomizedSearchCV"
   ]
  },
  {
   "cell_type": "code",
   "execution_count": 2,
   "id": "656f2247",
   "metadata": {},
   "outputs": [],
   "source": [
    "# 2. Loaded the iris dataset and changed to a dataframe\n",
    "\n",
    "iris = datasets.load_iris()\n",
    "df = pd.DataFrame(iris.data, columns=iris.feature_names)"
   ]
  },
  {
   "cell_type": "code",
   "execution_count": 3,
   "id": "6a1fe4b2",
   "metadata": {},
   "outputs": [],
   "source": [
    "# 3. Adding label column to the dataframe \n",
    "\n",
    "df['flower'] = iris.target\n",
    "df['flower'] = df['flower'].apply(lambda x : iris.target_names[x])"
   ]
  },
  {
   "cell_type": "code",
   "execution_count": 4,
   "id": "6efba98b",
   "metadata": {},
   "outputs": [
    {
     "data": {
      "text/html": [
       "<div>\n",
       "<style scoped>\n",
       "    .dataframe tbody tr th:only-of-type {\n",
       "        vertical-align: middle;\n",
       "    }\n",
       "\n",
       "    .dataframe tbody tr th {\n",
       "        vertical-align: top;\n",
       "    }\n",
       "\n",
       "    .dataframe thead th {\n",
       "        text-align: right;\n",
       "    }\n",
       "</style>\n",
       "<table border=\"1\" class=\"dataframe\">\n",
       "  <thead>\n",
       "    <tr style=\"text-align: right;\">\n",
       "      <th></th>\n",
       "      <th>sepal length (cm)</th>\n",
       "      <th>sepal width (cm)</th>\n",
       "      <th>petal length (cm)</th>\n",
       "      <th>petal width (cm)</th>\n",
       "      <th>flower</th>\n",
       "    </tr>\n",
       "  </thead>\n",
       "  <tbody>\n",
       "    <tr>\n",
       "      <th>0</th>\n",
       "      <td>5.1</td>\n",
       "      <td>3.5</td>\n",
       "      <td>1.4</td>\n",
       "      <td>0.2</td>\n",
       "      <td>setosa</td>\n",
       "    </tr>\n",
       "    <tr>\n",
       "      <th>1</th>\n",
       "      <td>4.9</td>\n",
       "      <td>3.0</td>\n",
       "      <td>1.4</td>\n",
       "      <td>0.2</td>\n",
       "      <td>setosa</td>\n",
       "    </tr>\n",
       "    <tr>\n",
       "      <th>2</th>\n",
       "      <td>4.7</td>\n",
       "      <td>3.2</td>\n",
       "      <td>1.3</td>\n",
       "      <td>0.2</td>\n",
       "      <td>setosa</td>\n",
       "    </tr>\n",
       "    <tr>\n",
       "      <th>3</th>\n",
       "      <td>4.6</td>\n",
       "      <td>3.1</td>\n",
       "      <td>1.5</td>\n",
       "      <td>0.2</td>\n",
       "      <td>setosa</td>\n",
       "    </tr>\n",
       "    <tr>\n",
       "      <th>4</th>\n",
       "      <td>5.0</td>\n",
       "      <td>3.6</td>\n",
       "      <td>1.4</td>\n",
       "      <td>0.2</td>\n",
       "      <td>setosa</td>\n",
       "    </tr>\n",
       "    <tr>\n",
       "      <th>...</th>\n",
       "      <td>...</td>\n",
       "      <td>...</td>\n",
       "      <td>...</td>\n",
       "      <td>...</td>\n",
       "      <td>...</td>\n",
       "    </tr>\n",
       "    <tr>\n",
       "      <th>145</th>\n",
       "      <td>6.7</td>\n",
       "      <td>3.0</td>\n",
       "      <td>5.2</td>\n",
       "      <td>2.3</td>\n",
       "      <td>virginica</td>\n",
       "    </tr>\n",
       "    <tr>\n",
       "      <th>146</th>\n",
       "      <td>6.3</td>\n",
       "      <td>2.5</td>\n",
       "      <td>5.0</td>\n",
       "      <td>1.9</td>\n",
       "      <td>virginica</td>\n",
       "    </tr>\n",
       "    <tr>\n",
       "      <th>147</th>\n",
       "      <td>6.5</td>\n",
       "      <td>3.0</td>\n",
       "      <td>5.2</td>\n",
       "      <td>2.0</td>\n",
       "      <td>virginica</td>\n",
       "    </tr>\n",
       "    <tr>\n",
       "      <th>148</th>\n",
       "      <td>6.2</td>\n",
       "      <td>3.4</td>\n",
       "      <td>5.4</td>\n",
       "      <td>2.3</td>\n",
       "      <td>virginica</td>\n",
       "    </tr>\n",
       "    <tr>\n",
       "      <th>149</th>\n",
       "      <td>5.9</td>\n",
       "      <td>3.0</td>\n",
       "      <td>5.1</td>\n",
       "      <td>1.8</td>\n",
       "      <td>virginica</td>\n",
       "    </tr>\n",
       "  </tbody>\n",
       "</table>\n",
       "<p>150 rows × 5 columns</p>\n",
       "</div>"
      ],
      "text/plain": [
       "     sepal length (cm)  sepal width (cm)  petal length (cm)  petal width (cm)  \\\n",
       "0                  5.1               3.5                1.4               0.2   \n",
       "1                  4.9               3.0                1.4               0.2   \n",
       "2                  4.7               3.2                1.3               0.2   \n",
       "3                  4.6               3.1                1.5               0.2   \n",
       "4                  5.0               3.6                1.4               0.2   \n",
       "..                 ...               ...                ...               ...   \n",
       "145                6.7               3.0                5.2               2.3   \n",
       "146                6.3               2.5                5.0               1.9   \n",
       "147                6.5               3.0                5.2               2.0   \n",
       "148                6.2               3.4                5.4               2.3   \n",
       "149                5.9               3.0                5.1               1.8   \n",
       "\n",
       "        flower  \n",
       "0       setosa  \n",
       "1       setosa  \n",
       "2       setosa  \n",
       "3       setosa  \n",
       "4       setosa  \n",
       "..         ...  \n",
       "145  virginica  \n",
       "146  virginica  \n",
       "147  virginica  \n",
       "148  virginica  \n",
       "149  virginica  \n",
       "\n",
       "[150 rows x 5 columns]"
      ]
     },
     "execution_count": 4,
     "metadata": {},
     "output_type": "execute_result"
    }
   ],
   "source": [
    "df"
   ]
  },
  {
   "cell_type": "code",
   "execution_count": 5,
   "id": "5d1d7a41",
   "metadata": {},
   "outputs": [],
   "source": [
    "# 4. Split the iris dataset\n",
    "\n",
    "X_train, X_test, y_train, y_test = train_test_split(iris.data, iris.target, test_size=0.3)"
   ]
  },
  {
   "cell_type": "code",
   "execution_count": 6,
   "id": "f33207e5",
   "metadata": {},
   "outputs": [
    {
     "data": {
      "text/plain": [
       "0.9333333333333333"
      ]
     },
     "execution_count": 6,
     "metadata": {},
     "output_type": "execute_result"
    }
   ],
   "source": [
    "# 5. simple SVM classifier\n",
    "\n",
    "svm_model = svm.SVC(kernel = 'rbf', C = 10, gamma = 'auto')\n",
    "svm_model.fit(X_train, y_train)\n",
    "svm_model.score(X_test, y_test)"
   ]
  },
  {
   "cell_type": "markdown",
   "id": "50b78610",
   "metadata": {},
   "source": [
    "Every time score changes since train & test data split affects. K fold cross validation is one solution by taking average of all scores."
   ]
  },
  {
   "cell_type": "code",
   "execution_count": 7,
   "id": "7214c00d",
   "metadata": {},
   "outputs": [
    {
     "data": {
      "text/plain": [
       "array([0.96, 1.  , 0.92, 0.92, 0.96, 1.  ])"
      ]
     },
     "execution_count": 7,
     "metadata": {},
     "output_type": "execute_result"
    }
   ],
   "source": [
    "# 6. 6-fold cross validation in SVM classifier\n",
    "\n",
    "cross_val_score(svm_model, iris.data, iris.target, cv=6)"
   ]
  },
  {
   "cell_type": "markdown",
   "id": "1722e8ad",
   "metadata": {},
   "source": [
    "Parameters that chose may not be optimal. Try as much as possible parameters to yield high accuracy."
   ]
  },
  {
   "cell_type": "code",
   "execution_count": 27,
   "id": "09b1b1e9",
   "metadata": {},
   "outputs": [],
   "source": [
    "# 7. 6-fold cross validation with different parameters in SVM classifier"
   ]
  },
  {
   "cell_type": "code",
   "execution_count": 8,
   "id": "5918e6f4",
   "metadata": {},
   "outputs": [],
   "source": [
    "svm_model_1 = svm.SVC(kernel = 'rbf', C = 10, gamma = 'auto')\n",
    "svm_model_2 = svm.SVC(kernel = 'linear', C = 50, gamma = 'auto')\n",
    "svm_model_3 = svm.SVC(kernel = 'poly', C = 100, gamma = 'auto')"
   ]
  },
  {
   "cell_type": "code",
   "execution_count": 9,
   "id": "d40b5ddd",
   "metadata": {},
   "outputs": [
    {
     "name": "stdout",
     "output_type": "stream",
     "text": [
      "[0.96 1.   0.92 0.92 0.96 1.  ]\n",
      "0.96\n"
     ]
    }
   ],
   "source": [
    "first_svm_model = cross_val_score(svm_model_1, iris.data, iris.target, cv=6)\n",
    "\n",
    "print (first_svm_model)\n",
    "print (sum(first_svm_model)/6)"
   ]
  },
  {
   "cell_type": "code",
   "execution_count": 10,
   "id": "ac7bdfda",
   "metadata": {},
   "outputs": [
    {
     "name": "stdout",
     "output_type": "stream",
     "text": [
      "[1.   1.   0.96 0.92 0.92 1.  ]\n",
      "0.9666666666666667\n"
     ]
    }
   ],
   "source": [
    "second_svm_model = cross_val_score(svm_model_2, iris.data, iris.target, cv=6)\n",
    "\n",
    "print (second_svm_model)\n",
    "print (sum(second_svm_model)/6)"
   ]
  },
  {
   "cell_type": "code",
   "execution_count": 11,
   "id": "83c10038",
   "metadata": {},
   "outputs": [
    {
     "name": "stdout",
     "output_type": "stream",
     "text": [
      "[0.96 1.   0.88 0.96 0.92 1.  ]\n",
      "0.9533333333333333\n"
     ]
    }
   ],
   "source": [
    "third_svm_model = cross_val_score(svm_model_3, iris.data, iris.target, cv=6)\n",
    "\n",
    "print (third_svm_model)\n",
    "print (sum(third_svm_model)/6)"
   ]
  },
  {
   "cell_type": "markdown",
   "id": "7ee36d76",
   "metadata": {},
   "source": [
    "Can use for loops to cover all the possible parameters. But, computationally complex when it comes to real world applications due to heavy number of data points."
   ]
  },
  {
   "cell_type": "code",
   "execution_count": 28,
   "id": "f84139f9",
   "metadata": {},
   "outputs": [],
   "source": [
    "# 8. GridsearchCV technique to find best parameter for SVM classifier model"
   ]
  },
  {
   "cell_type": "code",
   "execution_count": 12,
   "id": "96799f0f",
   "metadata": {},
   "outputs": [],
   "source": [
    "grid_svm_model = GridSearchCV(svm.SVC(gamma='auto'), {\n",
    "    'C': range(1,101),\n",
    "    'kernel': ['rbf', 'linear', 'poly']\n",
    "}, cv=5, return_train_score=False)"
   ]
  },
  {
   "cell_type": "code",
   "execution_count": 13,
   "id": "8eec5e52",
   "metadata": {},
   "outputs": [
    {
     "data": {
      "text/plain": [
       "GridSearchCV(cv=5, estimator=SVC(gamma='auto'),\n",
       "             param_grid={'C': range(1, 101),\n",
       "                         'kernel': ['rbf', 'linear', 'poly']})"
      ]
     },
     "execution_count": 13,
     "metadata": {},
     "output_type": "execute_result"
    }
   ],
   "source": [
    "grid_svm_model.fit(iris.data, iris.target)"
   ]
  },
  {
   "cell_type": "code",
   "execution_count": 14,
   "id": "e78a588a",
   "metadata": {},
   "outputs": [
    {
     "data": {
      "text/plain": [
       "{'C': 4, 'kernel': 'rbf'}"
      ]
     },
     "execution_count": 14,
     "metadata": {},
     "output_type": "execute_result"
    }
   ],
   "source": [
    "grid_svm_model.best_params_"
   ]
  },
  {
   "cell_type": "code",
   "execution_count": 15,
   "id": "fc5da118",
   "metadata": {},
   "outputs": [
    {
     "data": {
      "text/plain": [
       "0.9866666666666667"
      ]
     },
     "execution_count": 15,
     "metadata": {},
     "output_type": "execute_result"
    }
   ],
   "source": [
    "grid_svm_model.best_score_"
   ]
  },
  {
   "cell_type": "code",
   "execution_count": 16,
   "id": "3e0f026d",
   "metadata": {},
   "outputs": [],
   "source": [
    "df2 = pd.DataFrame(grid_svm_model.cv_results_)"
   ]
  },
  {
   "cell_type": "code",
   "execution_count": 17,
   "id": "b80c3c57",
   "metadata": {},
   "outputs": [
    {
     "data": {
      "text/html": [
       "<div>\n",
       "<style scoped>\n",
       "    .dataframe tbody tr th:only-of-type {\n",
       "        vertical-align: middle;\n",
       "    }\n",
       "\n",
       "    .dataframe tbody tr th {\n",
       "        vertical-align: top;\n",
       "    }\n",
       "\n",
       "    .dataframe thead th {\n",
       "        text-align: right;\n",
       "    }\n",
       "</style>\n",
       "<table border=\"1\" class=\"dataframe\">\n",
       "  <thead>\n",
       "    <tr style=\"text-align: right;\">\n",
       "      <th></th>\n",
       "      <th>param_C</th>\n",
       "      <th>param_kernel</th>\n",
       "      <th>mean_test_score</th>\n",
       "      <th>std_test_score</th>\n",
       "      <th>rank_test_score</th>\n",
       "    </tr>\n",
       "  </thead>\n",
       "  <tbody>\n",
       "    <tr>\n",
       "      <th>0</th>\n",
       "      <td>1</td>\n",
       "      <td>rbf</td>\n",
       "      <td>0.980000</td>\n",
       "      <td>0.016330</td>\n",
       "      <td>2</td>\n",
       "    </tr>\n",
       "    <tr>\n",
       "      <th>1</th>\n",
       "      <td>1</td>\n",
       "      <td>linear</td>\n",
       "      <td>0.980000</td>\n",
       "      <td>0.016330</td>\n",
       "      <td>2</td>\n",
       "    </tr>\n",
       "    <tr>\n",
       "      <th>2</th>\n",
       "      <td>1</td>\n",
       "      <td>poly</td>\n",
       "      <td>0.966667</td>\n",
       "      <td>0.042164</td>\n",
       "      <td>43</td>\n",
       "    </tr>\n",
       "    <tr>\n",
       "      <th>3</th>\n",
       "      <td>2</td>\n",
       "      <td>rbf</td>\n",
       "      <td>0.980000</td>\n",
       "      <td>0.016330</td>\n",
       "      <td>2</td>\n",
       "    </tr>\n",
       "    <tr>\n",
       "      <th>4</th>\n",
       "      <td>2</td>\n",
       "      <td>linear</td>\n",
       "      <td>0.980000</td>\n",
       "      <td>0.016330</td>\n",
       "      <td>2</td>\n",
       "    </tr>\n",
       "    <tr>\n",
       "      <th>...</th>\n",
       "      <td>...</td>\n",
       "      <td>...</td>\n",
       "      <td>...</td>\n",
       "      <td>...</td>\n",
       "      <td>...</td>\n",
       "    </tr>\n",
       "    <tr>\n",
       "      <th>295</th>\n",
       "      <td>99</td>\n",
       "      <td>linear</td>\n",
       "      <td>0.966667</td>\n",
       "      <td>0.042164</td>\n",
       "      <td>43</td>\n",
       "    </tr>\n",
       "    <tr>\n",
       "      <th>296</th>\n",
       "      <td>99</td>\n",
       "      <td>poly</td>\n",
       "      <td>0.946667</td>\n",
       "      <td>0.033993</td>\n",
       "      <td>299</td>\n",
       "    </tr>\n",
       "    <tr>\n",
       "      <th>297</th>\n",
       "      <td>100</td>\n",
       "      <td>rbf</td>\n",
       "      <td>0.960000</td>\n",
       "      <td>0.038873</td>\n",
       "      <td>121</td>\n",
       "    </tr>\n",
       "    <tr>\n",
       "      <th>298</th>\n",
       "      <td>100</td>\n",
       "      <td>linear</td>\n",
       "      <td>0.966667</td>\n",
       "      <td>0.042164</td>\n",
       "      <td>43</td>\n",
       "    </tr>\n",
       "    <tr>\n",
       "      <th>299</th>\n",
       "      <td>100</td>\n",
       "      <td>poly</td>\n",
       "      <td>0.946667</td>\n",
       "      <td>0.033993</td>\n",
       "      <td>299</td>\n",
       "    </tr>\n",
       "  </tbody>\n",
       "</table>\n",
       "<p>300 rows × 5 columns</p>\n",
       "</div>"
      ],
      "text/plain": [
       "    param_C param_kernel  mean_test_score  std_test_score  rank_test_score\n",
       "0         1          rbf         0.980000        0.016330                2\n",
       "1         1       linear         0.980000        0.016330                2\n",
       "2         1         poly         0.966667        0.042164               43\n",
       "3         2          rbf         0.980000        0.016330                2\n",
       "4         2       linear         0.980000        0.016330                2\n",
       "..      ...          ...              ...             ...              ...\n",
       "295      99       linear         0.966667        0.042164               43\n",
       "296      99         poly         0.946667        0.033993              299\n",
       "297     100          rbf         0.960000        0.038873              121\n",
       "298     100       linear         0.966667        0.042164               43\n",
       "299     100         poly         0.946667        0.033993              299\n",
       "\n",
       "[300 rows x 5 columns]"
      ]
     },
     "execution_count": 17,
     "metadata": {},
     "output_type": "execute_result"
    }
   ],
   "source": [
    "df2[['param_C', 'param_kernel', 'mean_test_score', 'std_test_score', 'rank_test_score']]"
   ]
  },
  {
   "cell_type": "markdown",
   "id": "482724b2",
   "metadata": {},
   "source": [
    "GridSearchCV uses all the possible parameters. RandomizedSearchCV is faster than GridSearchCV but can't expect best parameters."
   ]
  },
  {
   "cell_type": "code",
   "execution_count": 29,
   "id": "34f93073",
   "metadata": {},
   "outputs": [],
   "source": [
    "# 9. RandomizedsearchCV technique to find best parameter for SVM classifier model"
   ]
  },
  {
   "cell_type": "code",
   "execution_count": 18,
   "id": "75f2d860",
   "metadata": {},
   "outputs": [],
   "source": [
    "rand_svm_model = RandomizedSearchCV(svm.SVC(gamma='auto'), {\n",
    "    'C': range(1,101),\n",
    "    'kernel': ['rbf', 'linear', 'poly']\n",
    "}, cv=5, return_train_score=False, n_iter=6)"
   ]
  },
  {
   "cell_type": "code",
   "execution_count": 19,
   "id": "a4bc23db",
   "metadata": {},
   "outputs": [
    {
     "data": {
      "text/plain": [
       "RandomizedSearchCV(cv=5, estimator=SVC(gamma='auto'), n_iter=6,\n",
       "                   param_distributions={'C': range(1, 101),\n",
       "                                        'kernel': ['rbf', 'linear', 'poly']})"
      ]
     },
     "execution_count": 19,
     "metadata": {},
     "output_type": "execute_result"
    }
   ],
   "source": [
    "rand_svm_model.fit(iris.data, iris.target)"
   ]
  },
  {
   "cell_type": "code",
   "execution_count": 20,
   "id": "a9cfb970",
   "metadata": {},
   "outputs": [
    {
     "data": {
      "text/plain": [
       "{'kernel': 'linear', 'C': 66}"
      ]
     },
     "execution_count": 20,
     "metadata": {},
     "output_type": "execute_result"
    }
   ],
   "source": [
    "rand_svm_model.best_params_"
   ]
  },
  {
   "cell_type": "code",
   "execution_count": 21,
   "id": "32ba31d5",
   "metadata": {},
   "outputs": [
    {
     "data": {
      "text/plain": [
       "0.9666666666666666"
      ]
     },
     "execution_count": 21,
     "metadata": {},
     "output_type": "execute_result"
    }
   ],
   "source": [
    "rand_svm_model.best_score_"
   ]
  },
  {
   "cell_type": "code",
   "execution_count": 22,
   "id": "728e6e47",
   "metadata": {},
   "outputs": [
    {
     "data": {
      "text/html": [
       "<div>\n",
       "<style scoped>\n",
       "    .dataframe tbody tr th:only-of-type {\n",
       "        vertical-align: middle;\n",
       "    }\n",
       "\n",
       "    .dataframe tbody tr th {\n",
       "        vertical-align: top;\n",
       "    }\n",
       "\n",
       "    .dataframe thead th {\n",
       "        text-align: right;\n",
       "    }\n",
       "</style>\n",
       "<table border=\"1\" class=\"dataframe\">\n",
       "  <thead>\n",
       "    <tr style=\"text-align: right;\">\n",
       "      <th></th>\n",
       "      <th>param_C</th>\n",
       "      <th>param_kernel</th>\n",
       "      <th>mean_test_score</th>\n",
       "      <th>std_test_score</th>\n",
       "      <th>rank_test_score</th>\n",
       "    </tr>\n",
       "  </thead>\n",
       "  <tbody>\n",
       "    <tr>\n",
       "      <th>0</th>\n",
       "      <td>31</td>\n",
       "      <td>linear</td>\n",
       "      <td>0.960000</td>\n",
       "      <td>0.048990</td>\n",
       "      <td>3</td>\n",
       "    </tr>\n",
       "    <tr>\n",
       "      <th>1</th>\n",
       "      <td>66</td>\n",
       "      <td>linear</td>\n",
       "      <td>0.966667</td>\n",
       "      <td>0.042164</td>\n",
       "      <td>1</td>\n",
       "    </tr>\n",
       "    <tr>\n",
       "      <th>2</th>\n",
       "      <td>26</td>\n",
       "      <td>poly</td>\n",
       "      <td>0.953333</td>\n",
       "      <td>0.033993</td>\n",
       "      <td>5</td>\n",
       "    </tr>\n",
       "    <tr>\n",
       "      <th>3</th>\n",
       "      <td>2</td>\n",
       "      <td>poly</td>\n",
       "      <td>0.966667</td>\n",
       "      <td>0.042164</td>\n",
       "      <td>1</td>\n",
       "    </tr>\n",
       "    <tr>\n",
       "      <th>4</th>\n",
       "      <td>46</td>\n",
       "      <td>poly</td>\n",
       "      <td>0.960000</td>\n",
       "      <td>0.024944</td>\n",
       "      <td>3</td>\n",
       "    </tr>\n",
       "    <tr>\n",
       "      <th>5</th>\n",
       "      <td>38</td>\n",
       "      <td>poly</td>\n",
       "      <td>0.953333</td>\n",
       "      <td>0.033993</td>\n",
       "      <td>5</td>\n",
       "    </tr>\n",
       "  </tbody>\n",
       "</table>\n",
       "</div>"
      ],
      "text/plain": [
       "  param_C param_kernel  mean_test_score  std_test_score  rank_test_score\n",
       "0      31       linear         0.960000        0.048990                3\n",
       "1      66       linear         0.966667        0.042164                1\n",
       "2      26         poly         0.953333        0.033993                5\n",
       "3       2         poly         0.966667        0.042164                1\n",
       "4      46         poly         0.960000        0.024944                3\n",
       "5      38         poly         0.953333        0.033993                5"
      ]
     },
     "execution_count": 22,
     "metadata": {},
     "output_type": "execute_result"
    }
   ],
   "source": [
    "pd.DataFrame(rand_svm_model.cv_results_)[['param_C', 'param_kernel', 'mean_test_score', 'std_test_score', 'rank_test_score']]"
   ]
  },
  {
   "cell_type": "markdown",
   "id": "6d8c97f7",
   "metadata": {},
   "source": [
    "We can't guarantee that SVC is the suitable model. We can use hyperparameter technique to determine best model with best parameters too."
   ]
  },
  {
   "cell_type": "code",
   "execution_count": 30,
   "id": "01db6b5d",
   "metadata": {},
   "outputs": [],
   "source": [
    "# 10. GridsearchCV technique to find best parameter from 3 classifier models"
   ]
  },
  {
   "cell_type": "code",
   "execution_count": 23,
   "id": "8249d662",
   "metadata": {},
   "outputs": [],
   "source": [
    "model_params = {\n",
    "    'svc':{\n",
    "        'model': svm.SVC(gamma='auto'),\n",
    "        'params':{\n",
    "            'C': [1,10,50,100],\n",
    "            'kernel': ['rbf', 'linear', 'poly'] \n",
    "        }\n",
    "    },\n",
    "    'dtc':{\n",
    "        'model': dtc(),\n",
    "        'params':{\n",
    "            'criterion': [\"gini\", \"entropy\"],\n",
    "            'splitter': [\"best\", \"random\"],\n",
    "            'max_depth': [1,5,10]\n",
    "        }        \n",
    "    },\n",
    "    'rfc':{\n",
    "        'model': rfc(),\n",
    "        'params':{\n",
    "            'criterion': [\"gini\", \"entropy\"],\n",
    "            'n_estimators': [10, 20, 50, 100, 150, 200],\n",
    "            'max_depth': [1,5,10]\n",
    "        }        \n",
    "    }\n",
    "}"
   ]
  },
  {
   "cell_type": "code",
   "execution_count": 24,
   "id": "98a27a84",
   "metadata": {},
   "outputs": [
    {
     "name": "stdout",
     "output_type": "stream",
     "text": [
      "[{'model': 'svc', 'best_score': 0.9800000000000001, 'best_params': {'C': 1, 'kernel': 'rbf'}}, {'model': 'dtc', 'best_score': 0.9600000000000002, 'best_params': {'criterion': 'gini', 'max_depth': 10, 'splitter': 'best'}}, {'model': 'rfc', 'best_score': 0.9666666666666668, 'best_params': {'criterion': 'gini', 'max_depth': 5, 'n_estimators': 150}}]\n"
     ]
    }
   ],
   "source": [
    "scores = []\n",
    "\n",
    "for model_name,model_param in model_params.items():\n",
    "    clf = GridSearchCV(model_param['model'], model_param['params'], cv=5, return_train_score=False)\n",
    "    clf.fit(iris.data, iris.target)\n",
    "    scores.append(\n",
    "    {\n",
    "        'model': model_name,\n",
    "        'best_score': clf.best_score_,\n",
    "        'best_params': clf.best_params_\n",
    "    })\n",
    "\n",
    "print (scores)    "
   ]
  },
  {
   "cell_type": "code",
   "execution_count": 31,
   "id": "33aef173",
   "metadata": {},
   "outputs": [],
   "source": [
    "# 11. Best parameters from each ML algorithms"
   ]
  },
  {
   "cell_type": "code",
   "execution_count": 26,
   "id": "fcc1b377",
   "metadata": {},
   "outputs": [
    {
     "data": {
      "text/html": [
       "<div>\n",
       "<style scoped>\n",
       "    .dataframe tbody tr th:only-of-type {\n",
       "        vertical-align: middle;\n",
       "    }\n",
       "\n",
       "    .dataframe tbody tr th {\n",
       "        vertical-align: top;\n",
       "    }\n",
       "\n",
       "    .dataframe thead th {\n",
       "        text-align: right;\n",
       "    }\n",
       "</style>\n",
       "<table border=\"1\" class=\"dataframe\">\n",
       "  <thead>\n",
       "    <tr style=\"text-align: right;\">\n",
       "      <th></th>\n",
       "      <th>model</th>\n",
       "      <th>best_score</th>\n",
       "      <th>best_params</th>\n",
       "    </tr>\n",
       "  </thead>\n",
       "  <tbody>\n",
       "    <tr>\n",
       "      <th>0</th>\n",
       "      <td>svc</td>\n",
       "      <td>0.980000</td>\n",
       "      <td>{'C': 1, 'kernel': 'rbf'}</td>\n",
       "    </tr>\n",
       "    <tr>\n",
       "      <th>1</th>\n",
       "      <td>dtc</td>\n",
       "      <td>0.960000</td>\n",
       "      <td>{'criterion': 'gini', 'max_depth': 10, 'splitt...</td>\n",
       "    </tr>\n",
       "    <tr>\n",
       "      <th>2</th>\n",
       "      <td>rfc</td>\n",
       "      <td>0.966667</td>\n",
       "      <td>{'criterion': 'gini', 'max_depth': 5, 'n_estim...</td>\n",
       "    </tr>\n",
       "  </tbody>\n",
       "</table>\n",
       "</div>"
      ],
      "text/plain": [
       "  model  best_score                                        best_params\n",
       "0   svc    0.980000                          {'C': 1, 'kernel': 'rbf'}\n",
       "1   dtc    0.960000  {'criterion': 'gini', 'max_depth': 10, 'splitt...\n",
       "2   rfc    0.966667  {'criterion': 'gini', 'max_depth': 5, 'n_estim..."
      ]
     },
     "execution_count": 26,
     "metadata": {},
     "output_type": "execute_result"
    }
   ],
   "source": [
    "pd.DataFrame(scores)"
   ]
  },
  {
   "cell_type": "markdown",
   "id": "feaa9395",
   "metadata": {},
   "source": [
    "SVM classifier with C = 1 and kernel = rbf is a better model for this iris dataset"
   ]
  }
 ],
 "metadata": {
  "kernelspec": {
   "display_name": "Python 3 (ipykernel)",
   "language": "python",
   "name": "python3"
  },
  "language_info": {
   "codemirror_mode": {
    "name": "ipython",
    "version": 3
   },
   "file_extension": ".py",
   "mimetype": "text/x-python",
   "name": "python",
   "nbconvert_exporter": "python",
   "pygments_lexer": "ipython3",
   "version": "3.9.7"
  }
 },
 "nbformat": 4,
 "nbformat_minor": 5
}
